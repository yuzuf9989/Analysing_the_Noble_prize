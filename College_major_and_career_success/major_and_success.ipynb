{
 "cells": [
  {
   "cell_type": "code",
   "execution_count": 1,
   "metadata": {
    "collapsed": true,
    "ExecuteTime": {
     "end_time": "2023-10-20T15:47:48.625860Z",
     "start_time": "2023-10-20T15:47:22.546525Z"
    }
   },
   "outputs": [
    {
     "data": {
      "text/plain": "    Undergraduate Major  Starting Median Salary  Mid-Career Median Salary  \\\n0                 False                   False                     False   \n1                 False                   False                     False   \n2                 False                   False                     False   \n3                 False                   False                     False   \n4                 False                   False                     False   \n5                 False                   False                     False   \n6                 False                   False                     False   \n7                 False                   False                     False   \n8                 False                   False                     False   \n9                 False                   False                     False   \n10                False                   False                     False   \n11                False                   False                     False   \n12                False                   False                     False   \n13                False                   False                     False   \n14                False                   False                     False   \n15                False                   False                     False   \n16                False                   False                     False   \n17                False                   False                     False   \n18                False                   False                     False   \n19                False                   False                     False   \n20                False                   False                     False   \n21                False                   False                     False   \n22                False                   False                     False   \n23                False                   False                     False   \n24                False                   False                     False   \n25                False                   False                     False   \n26                False                   False                     False   \n27                False                   False                     False   \n28                False                   False                     False   \n29                False                   False                     False   \n30                False                   False                     False   \n31                False                   False                     False   \n32                False                   False                     False   \n33                False                   False                     False   \n34                False                   False                     False   \n35                False                   False                     False   \n36                False                   False                     False   \n37                False                   False                     False   \n38                False                   False                     False   \n39                False                   False                     False   \n40                False                   False                     False   \n41                False                   False                     False   \n42                False                   False                     False   \n43                False                   False                     False   \n44                False                   False                     False   \n45                False                   False                     False   \n46                False                   False                     False   \n47                False                   False                     False   \n48                False                   False                     False   \n49                False                   False                     False   \n50                False                    True                      True   \n\n    Mid-Career 10th Percentile Salary  Mid-Career 90th Percentile Salary  \\\n0                               False                              False   \n1                               False                              False   \n2                               False                              False   \n3                               False                              False   \n4                               False                              False   \n5                               False                              False   \n6                               False                              False   \n7                               False                              False   \n8                               False                              False   \n9                               False                              False   \n10                              False                              False   \n11                              False                              False   \n12                              False                              False   \n13                              False                              False   \n14                              False                              False   \n15                              False                              False   \n16                              False                              False   \n17                              False                              False   \n18                              False                              False   \n19                              False                              False   \n20                              False                              False   \n21                              False                              False   \n22                              False                              False   \n23                              False                              False   \n24                              False                              False   \n25                              False                              False   \n26                              False                              False   \n27                              False                              False   \n28                              False                              False   \n29                              False                              False   \n30                              False                              False   \n31                              False                              False   \n32                              False                              False   \n33                              False                              False   \n34                              False                              False   \n35                              False                              False   \n36                              False                              False   \n37                              False                              False   \n38                              False                              False   \n39                              False                              False   \n40                              False                              False   \n41                              False                              False   \n42                              False                              False   \n43                              False                              False   \n44                              False                              False   \n45                              False                              False   \n46                              False                              False   \n47                              False                              False   \n48                              False                              False   \n49                              False                              False   \n50                               True                               True   \n\n    Group  \n0   False  \n1   False  \n2   False  \n3   False  \n4   False  \n5   False  \n6   False  \n7   False  \n8   False  \n9   False  \n10  False  \n11  False  \n12  False  \n13  False  \n14  False  \n15  False  \n16  False  \n17  False  \n18  False  \n19  False  \n20  False  \n21  False  \n22  False  \n23  False  \n24  False  \n25  False  \n26  False  \n27  False  \n28  False  \n29  False  \n30  False  \n31  False  \n32  False  \n33  False  \n34  False  \n35  False  \n36  False  \n37  False  \n38  False  \n39  False  \n40  False  \n41  False  \n42  False  \n43  False  \n44  False  \n45  False  \n46  False  \n47  False  \n48  False  \n49  False  \n50   True  ",
      "text/html": "<div>\n<style scoped>\n    .dataframe tbody tr th:only-of-type {\n        vertical-align: middle;\n    }\n\n    .dataframe tbody tr th {\n        vertical-align: top;\n    }\n\n    .dataframe thead th {\n        text-align: right;\n    }\n</style>\n<table border=\"1\" class=\"dataframe\">\n  <thead>\n    <tr style=\"text-align: right;\">\n      <th></th>\n      <th>Undergraduate Major</th>\n      <th>Starting Median Salary</th>\n      <th>Mid-Career Median Salary</th>\n      <th>Mid-Career 10th Percentile Salary</th>\n      <th>Mid-Career 90th Percentile Salary</th>\n      <th>Group</th>\n    </tr>\n  </thead>\n  <tbody>\n    <tr>\n      <th>0</th>\n      <td>False</td>\n      <td>False</td>\n      <td>False</td>\n      <td>False</td>\n      <td>False</td>\n      <td>False</td>\n    </tr>\n    <tr>\n      <th>1</th>\n      <td>False</td>\n      <td>False</td>\n      <td>False</td>\n      <td>False</td>\n      <td>False</td>\n      <td>False</td>\n    </tr>\n    <tr>\n      <th>2</th>\n      <td>False</td>\n      <td>False</td>\n      <td>False</td>\n      <td>False</td>\n      <td>False</td>\n      <td>False</td>\n    </tr>\n    <tr>\n      <th>3</th>\n      <td>False</td>\n      <td>False</td>\n      <td>False</td>\n      <td>False</td>\n      <td>False</td>\n      <td>False</td>\n    </tr>\n    <tr>\n      <th>4</th>\n      <td>False</td>\n      <td>False</td>\n      <td>False</td>\n      <td>False</td>\n      <td>False</td>\n      <td>False</td>\n    </tr>\n    <tr>\n      <th>5</th>\n      <td>False</td>\n      <td>False</td>\n      <td>False</td>\n      <td>False</td>\n      <td>False</td>\n      <td>False</td>\n    </tr>\n    <tr>\n      <th>6</th>\n      <td>False</td>\n      <td>False</td>\n      <td>False</td>\n      <td>False</td>\n      <td>False</td>\n      <td>False</td>\n    </tr>\n    <tr>\n      <th>7</th>\n      <td>False</td>\n      <td>False</td>\n      <td>False</td>\n      <td>False</td>\n      <td>False</td>\n      <td>False</td>\n    </tr>\n    <tr>\n      <th>8</th>\n      <td>False</td>\n      <td>False</td>\n      <td>False</td>\n      <td>False</td>\n      <td>False</td>\n      <td>False</td>\n    </tr>\n    <tr>\n      <th>9</th>\n      <td>False</td>\n      <td>False</td>\n      <td>False</td>\n      <td>False</td>\n      <td>False</td>\n      <td>False</td>\n    </tr>\n    <tr>\n      <th>10</th>\n      <td>False</td>\n      <td>False</td>\n      <td>False</td>\n      <td>False</td>\n      <td>False</td>\n      <td>False</td>\n    </tr>\n    <tr>\n      <th>11</th>\n      <td>False</td>\n      <td>False</td>\n      <td>False</td>\n      <td>False</td>\n      <td>False</td>\n      <td>False</td>\n    </tr>\n    <tr>\n      <th>12</th>\n      <td>False</td>\n      <td>False</td>\n      <td>False</td>\n      <td>False</td>\n      <td>False</td>\n      <td>False</td>\n    </tr>\n    <tr>\n      <th>13</th>\n      <td>False</td>\n      <td>False</td>\n      <td>False</td>\n      <td>False</td>\n      <td>False</td>\n      <td>False</td>\n    </tr>\n    <tr>\n      <th>14</th>\n      <td>False</td>\n      <td>False</td>\n      <td>False</td>\n      <td>False</td>\n      <td>False</td>\n      <td>False</td>\n    </tr>\n    <tr>\n      <th>15</th>\n      <td>False</td>\n      <td>False</td>\n      <td>False</td>\n      <td>False</td>\n      <td>False</td>\n      <td>False</td>\n    </tr>\n    <tr>\n      <th>16</th>\n      <td>False</td>\n      <td>False</td>\n      <td>False</td>\n      <td>False</td>\n      <td>False</td>\n      <td>False</td>\n    </tr>\n    <tr>\n      <th>17</th>\n      <td>False</td>\n      <td>False</td>\n      <td>False</td>\n      <td>False</td>\n      <td>False</td>\n      <td>False</td>\n    </tr>\n    <tr>\n      <th>18</th>\n      <td>False</td>\n      <td>False</td>\n      <td>False</td>\n      <td>False</td>\n      <td>False</td>\n      <td>False</td>\n    </tr>\n    <tr>\n      <th>19</th>\n      <td>False</td>\n      <td>False</td>\n      <td>False</td>\n      <td>False</td>\n      <td>False</td>\n      <td>False</td>\n    </tr>\n    <tr>\n      <th>20</th>\n      <td>False</td>\n      <td>False</td>\n      <td>False</td>\n      <td>False</td>\n      <td>False</td>\n      <td>False</td>\n    </tr>\n    <tr>\n      <th>21</th>\n      <td>False</td>\n      <td>False</td>\n      <td>False</td>\n      <td>False</td>\n      <td>False</td>\n      <td>False</td>\n    </tr>\n    <tr>\n      <th>22</th>\n      <td>False</td>\n      <td>False</td>\n      <td>False</td>\n      <td>False</td>\n      <td>False</td>\n      <td>False</td>\n    </tr>\n    <tr>\n      <th>23</th>\n      <td>False</td>\n      <td>False</td>\n      <td>False</td>\n      <td>False</td>\n      <td>False</td>\n      <td>False</td>\n    </tr>\n    <tr>\n      <th>24</th>\n      <td>False</td>\n      <td>False</td>\n      <td>False</td>\n      <td>False</td>\n      <td>False</td>\n      <td>False</td>\n    </tr>\n    <tr>\n      <th>25</th>\n      <td>False</td>\n      <td>False</td>\n      <td>False</td>\n      <td>False</td>\n      <td>False</td>\n      <td>False</td>\n    </tr>\n    <tr>\n      <th>26</th>\n      <td>False</td>\n      <td>False</td>\n      <td>False</td>\n      <td>False</td>\n      <td>False</td>\n      <td>False</td>\n    </tr>\n    <tr>\n      <th>27</th>\n      <td>False</td>\n      <td>False</td>\n      <td>False</td>\n      <td>False</td>\n      <td>False</td>\n      <td>False</td>\n    </tr>\n    <tr>\n      <th>28</th>\n      <td>False</td>\n      <td>False</td>\n      <td>False</td>\n      <td>False</td>\n      <td>False</td>\n      <td>False</td>\n    </tr>\n    <tr>\n      <th>29</th>\n      <td>False</td>\n      <td>False</td>\n      <td>False</td>\n      <td>False</td>\n      <td>False</td>\n      <td>False</td>\n    </tr>\n    <tr>\n      <th>30</th>\n      <td>False</td>\n      <td>False</td>\n      <td>False</td>\n      <td>False</td>\n      <td>False</td>\n      <td>False</td>\n    </tr>\n    <tr>\n      <th>31</th>\n      <td>False</td>\n      <td>False</td>\n      <td>False</td>\n      <td>False</td>\n      <td>False</td>\n      <td>False</td>\n    </tr>\n    <tr>\n      <th>32</th>\n      <td>False</td>\n      <td>False</td>\n      <td>False</td>\n      <td>False</td>\n      <td>False</td>\n      <td>False</td>\n    </tr>\n    <tr>\n      <th>33</th>\n      <td>False</td>\n      <td>False</td>\n      <td>False</td>\n      <td>False</td>\n      <td>False</td>\n      <td>False</td>\n    </tr>\n    <tr>\n      <th>34</th>\n      <td>False</td>\n      <td>False</td>\n      <td>False</td>\n      <td>False</td>\n      <td>False</td>\n      <td>False</td>\n    </tr>\n    <tr>\n      <th>35</th>\n      <td>False</td>\n      <td>False</td>\n      <td>False</td>\n      <td>False</td>\n      <td>False</td>\n      <td>False</td>\n    </tr>\n    <tr>\n      <th>36</th>\n      <td>False</td>\n      <td>False</td>\n      <td>False</td>\n      <td>False</td>\n      <td>False</td>\n      <td>False</td>\n    </tr>\n    <tr>\n      <th>37</th>\n      <td>False</td>\n      <td>False</td>\n      <td>False</td>\n      <td>False</td>\n      <td>False</td>\n      <td>False</td>\n    </tr>\n    <tr>\n      <th>38</th>\n      <td>False</td>\n      <td>False</td>\n      <td>False</td>\n      <td>False</td>\n      <td>False</td>\n      <td>False</td>\n    </tr>\n    <tr>\n      <th>39</th>\n      <td>False</td>\n      <td>False</td>\n      <td>False</td>\n      <td>False</td>\n      <td>False</td>\n      <td>False</td>\n    </tr>\n    <tr>\n      <th>40</th>\n      <td>False</td>\n      <td>False</td>\n      <td>False</td>\n      <td>False</td>\n      <td>False</td>\n      <td>False</td>\n    </tr>\n    <tr>\n      <th>41</th>\n      <td>False</td>\n      <td>False</td>\n      <td>False</td>\n      <td>False</td>\n      <td>False</td>\n      <td>False</td>\n    </tr>\n    <tr>\n      <th>42</th>\n      <td>False</td>\n      <td>False</td>\n      <td>False</td>\n      <td>False</td>\n      <td>False</td>\n      <td>False</td>\n    </tr>\n    <tr>\n      <th>43</th>\n      <td>False</td>\n      <td>False</td>\n      <td>False</td>\n      <td>False</td>\n      <td>False</td>\n      <td>False</td>\n    </tr>\n    <tr>\n      <th>44</th>\n      <td>False</td>\n      <td>False</td>\n      <td>False</td>\n      <td>False</td>\n      <td>False</td>\n      <td>False</td>\n    </tr>\n    <tr>\n      <th>45</th>\n      <td>False</td>\n      <td>False</td>\n      <td>False</td>\n      <td>False</td>\n      <td>False</td>\n      <td>False</td>\n    </tr>\n    <tr>\n      <th>46</th>\n      <td>False</td>\n      <td>False</td>\n      <td>False</td>\n      <td>False</td>\n      <td>False</td>\n      <td>False</td>\n    </tr>\n    <tr>\n      <th>47</th>\n      <td>False</td>\n      <td>False</td>\n      <td>False</td>\n      <td>False</td>\n      <td>False</td>\n      <td>False</td>\n    </tr>\n    <tr>\n      <th>48</th>\n      <td>False</td>\n      <td>False</td>\n      <td>False</td>\n      <td>False</td>\n      <td>False</td>\n      <td>False</td>\n    </tr>\n    <tr>\n      <th>49</th>\n      <td>False</td>\n      <td>False</td>\n      <td>False</td>\n      <td>False</td>\n      <td>False</td>\n      <td>False</td>\n    </tr>\n    <tr>\n      <th>50</th>\n      <td>False</td>\n      <td>True</td>\n      <td>True</td>\n      <td>True</td>\n      <td>True</td>\n      <td>True</td>\n    </tr>\n  </tbody>\n</table>\n</div>"
     },
     "execution_count": 1,
     "metadata": {},
     "output_type": "execute_result"
    }
   ],
   "source": [
    "import pandas as pd\n",
    "\n",
    "data = pd.read_csv(\"salaries_by_college_major.csv\")\n",
    "data.isna()"
   ]
  },
  {
   "cell_type": "code",
   "execution_count": 11,
   "outputs": [
    {
     "data": {
      "text/plain": "      Undergraduate Major  Starting Median Salary  Mid-Career Median Salary  \\\n46             Psychology                 35900.0                   60400.0   \n47               Religion                 34100.0                   52000.0   \n48              Sociology                 36500.0                   58200.0   \n49                Spanish                 34000.0                   53100.0   \n50  Source: PayScale Inc.                     NaN                       NaN   \n\n    Mid-Career 10th Percentile Salary  Mid-Career 90th Percentile Salary Group  \n46                            31600.0                           127000.0  HASS  \n47                            29700.0                            96400.0  HASS  \n48                            30700.0                           118000.0  HASS  \n49                            31000.0                            96400.0  HASS  \n50                                NaN                                NaN   NaN  ",
      "text/html": "<div>\n<style scoped>\n    .dataframe tbody tr th:only-of-type {\n        vertical-align: middle;\n    }\n\n    .dataframe tbody tr th {\n        vertical-align: top;\n    }\n\n    .dataframe thead th {\n        text-align: right;\n    }\n</style>\n<table border=\"1\" class=\"dataframe\">\n  <thead>\n    <tr style=\"text-align: right;\">\n      <th></th>\n      <th>Undergraduate Major</th>\n      <th>Starting Median Salary</th>\n      <th>Mid-Career Median Salary</th>\n      <th>Mid-Career 10th Percentile Salary</th>\n      <th>Mid-Career 90th Percentile Salary</th>\n      <th>Group</th>\n    </tr>\n  </thead>\n  <tbody>\n    <tr>\n      <th>46</th>\n      <td>Psychology</td>\n      <td>35900.0</td>\n      <td>60400.0</td>\n      <td>31600.0</td>\n      <td>127000.0</td>\n      <td>HASS</td>\n    </tr>\n    <tr>\n      <th>47</th>\n      <td>Religion</td>\n      <td>34100.0</td>\n      <td>52000.0</td>\n      <td>29700.0</td>\n      <td>96400.0</td>\n      <td>HASS</td>\n    </tr>\n    <tr>\n      <th>48</th>\n      <td>Sociology</td>\n      <td>36500.0</td>\n      <td>58200.0</td>\n      <td>30700.0</td>\n      <td>118000.0</td>\n      <td>HASS</td>\n    </tr>\n    <tr>\n      <th>49</th>\n      <td>Spanish</td>\n      <td>34000.0</td>\n      <td>53100.0</td>\n      <td>31000.0</td>\n      <td>96400.0</td>\n      <td>HASS</td>\n    </tr>\n    <tr>\n      <th>50</th>\n      <td>Source: PayScale Inc.</td>\n      <td>NaN</td>\n      <td>NaN</td>\n      <td>NaN</td>\n      <td>NaN</td>\n      <td>NaN</td>\n    </tr>\n  </tbody>\n</table>\n</div>"
     },
     "execution_count": 11,
     "metadata": {},
     "output_type": "execute_result"
    }
   ],
   "source": [
    "data.tail()"
   ],
   "metadata": {
    "collapsed": false,
    "ExecuteTime": {
     "end_time": "2023-07-22T16:36:52.386078Z",
     "start_time": "2023-07-22T16:36:52.382200Z"
    }
   }
  },
  {
   "cell_type": "code",
   "execution_count": 15,
   "outputs": [
    {
     "data": {
      "text/plain": "                     Undergraduate Major  Starting Median Salary  \\\n0                             Accounting                 46000.0   \n1                  Aerospace Engineering                 57700.0   \n2                            Agriculture                 42600.0   \n3                           Anthropology                 36800.0   \n4                           Architecture                 41600.0   \n5                            Art History                 35800.0   \n6                                Biology                 38800.0   \n7                    Business Management                 43000.0   \n8                   Chemical Engineering                 63200.0   \n9                              Chemistry                 42600.0   \n10                     Civil Engineering                 53900.0   \n11                        Communications                 38100.0   \n12                  Computer Engineering                 61400.0   \n13                      Computer Science                 55900.0   \n14                          Construction                 53700.0   \n15                      Criminal Justice                 35000.0   \n16                                 Drama                 35900.0   \n17                             Economics                 50100.0   \n18                             Education                 34900.0   \n19                Electrical Engineering                 60900.0   \n20                               English                 38000.0   \n21                                  Film                 37900.0   \n22                               Finance                 47900.0   \n23                              Forestry                 39100.0   \n24                             Geography                 41200.0   \n25                               Geology                 43500.0   \n26                        Graphic Design                 35700.0   \n27            Health Care Administration                 38800.0   \n28                               History                 39200.0   \n29                 Hospitality & Tourism                 37800.0   \n30                Industrial Engineering                 57700.0   \n31           Information Technology (IT)                 49100.0   \n32                       Interior Design                 36100.0   \n33               International Relations                 40900.0   \n34                            Journalism                 35600.0   \n35  Management Information Systems (MIS)                 49200.0   \n36                             Marketing                 40800.0   \n37                                  Math                 45400.0   \n38                Mechanical Engineering                 57900.0   \n39                                 Music                 35900.0   \n40                               Nursing                 54200.0   \n41                             Nutrition                 39900.0   \n42                            Philosophy                 39900.0   \n43                   Physician Assistant                 74300.0   \n44                               Physics                 50300.0   \n45                     Political Science                 40800.0   \n46                            Psychology                 35900.0   \n47                              Religion                 34100.0   \n48                             Sociology                 36500.0   \n49                               Spanish                 34000.0   \n\n    Mid-Career Median Salary  Mid-Career 10th Percentile Salary  \\\n0                    77100.0                            42200.0   \n1                   101000.0                            64300.0   \n2                    71900.0                            36300.0   \n3                    61500.0                            33800.0   \n4                    76800.0                            50600.0   \n5                    64900.0                            28800.0   \n6                    64800.0                            36900.0   \n7                    72100.0                            38800.0   \n8                   107000.0                            71900.0   \n9                    79900.0                            45300.0   \n10                   90500.0                            63400.0   \n11                   70000.0                            37500.0   \n12                  105000.0                            66100.0   \n13                   95500.0                            56000.0   \n14                   88900.0                            56300.0   \n15                   56300.0                            32200.0   \n16                   56900.0                            36700.0   \n17                   98600.0                            50600.0   \n18                   52000.0                            29300.0   \n19                  103000.0                            69300.0   \n20                   64700.0                            33400.0   \n21                   68500.0                            33900.0   \n22                   88300.0                            47200.0   \n23                   62600.0                            41000.0   \n24                   65500.0                            40000.0   \n25                   79500.0                            45000.0   \n26                   59800.0                            36000.0   \n27                   60600.0                            34600.0   \n28                   71000.0                            37000.0   \n29                   57500.0                            35500.0   \n30                   94700.0                            57100.0   \n31                   74800.0                            44500.0   \n32                   53200.0                            35700.0   \n33                   80900.0                            38200.0   \n34                   66700.0                            38400.0   \n35                   82300.0                            45300.0   \n36                   79600.0                            42100.0   \n37                   92400.0                            45200.0   \n38                   93600.0                            63700.0   \n39                   55000.0                            26700.0   \n40                   67000.0                            47600.0   \n41                   55300.0                            33900.0   \n42                   81200.0                            35500.0   \n43                   91700.0                            66400.0   \n44                   97300.0                            56000.0   \n45                   78200.0                            41200.0   \n46                   60400.0                            31600.0   \n47                   52000.0                            29700.0   \n48                   58200.0                            30700.0   \n49                   53100.0                            31000.0   \n\n    Mid-Career 90th Percentile Salary     Group  \n0                            152000.0  Business  \n1                            161000.0      STEM  \n2                            150000.0  Business  \n3                            138000.0      HASS  \n4                            136000.0  Business  \n5                            125000.0      HASS  \n6                            135000.0      STEM  \n7                            147000.0  Business  \n8                            194000.0      STEM  \n9                            148000.0      STEM  \n10                           148000.0      STEM  \n11                           143000.0      HASS  \n12                           162000.0      STEM  \n13                           154000.0      STEM  \n14                           171000.0  Business  \n15                           107000.0      HASS  \n16                           153000.0      HASS  \n17                           210000.0  Business  \n18                           102000.0      HASS  \n19                           168000.0      STEM  \n20                           133000.0      HASS  \n21                           136000.0      HASS  \n22                           195000.0  Business  \n23                           111000.0  Business  \n24                           132000.0      HASS  \n25                           156000.0      STEM  \n26                           112000.0      HASS  \n27                           101000.0  Business  \n28                           149000.0      HASS  \n29                           124000.0  Business  \n30                           173000.0      STEM  \n31                           129000.0      STEM  \n32                           107000.0      HASS  \n33                           157000.0      HASS  \n34                           145000.0      HASS  \n35                           146000.0      STEM  \n36                           175000.0  Business  \n37                           183000.0      STEM  \n38                           163000.0      STEM  \n39                           134000.0      HASS  \n40                            98300.0  Business  \n41                            99200.0      HASS  \n42                           168000.0      HASS  \n43                           124000.0      STEM  \n44                           178000.0      STEM  \n45                           168000.0      HASS  \n46                           127000.0      HASS  \n47                            96400.0      HASS  \n48                           118000.0      HASS  \n49                            96400.0      HASS  ",
      "text/html": "<div>\n<style scoped>\n    .dataframe tbody tr th:only-of-type {\n        vertical-align: middle;\n    }\n\n    .dataframe tbody tr th {\n        vertical-align: top;\n    }\n\n    .dataframe thead th {\n        text-align: right;\n    }\n</style>\n<table border=\"1\" class=\"dataframe\">\n  <thead>\n    <tr style=\"text-align: right;\">\n      <th></th>\n      <th>Undergraduate Major</th>\n      <th>Starting Median Salary</th>\n      <th>Mid-Career Median Salary</th>\n      <th>Mid-Career 10th Percentile Salary</th>\n      <th>Mid-Career 90th Percentile Salary</th>\n      <th>Group</th>\n    </tr>\n  </thead>\n  <tbody>\n    <tr>\n      <th>0</th>\n      <td>Accounting</td>\n      <td>46000.0</td>\n      <td>77100.0</td>\n      <td>42200.0</td>\n      <td>152000.0</td>\n      <td>Business</td>\n    </tr>\n    <tr>\n      <th>1</th>\n      <td>Aerospace Engineering</td>\n      <td>57700.0</td>\n      <td>101000.0</td>\n      <td>64300.0</td>\n      <td>161000.0</td>\n      <td>STEM</td>\n    </tr>\n    <tr>\n      <th>2</th>\n      <td>Agriculture</td>\n      <td>42600.0</td>\n      <td>71900.0</td>\n      <td>36300.0</td>\n      <td>150000.0</td>\n      <td>Business</td>\n    </tr>\n    <tr>\n      <th>3</th>\n      <td>Anthropology</td>\n      <td>36800.0</td>\n      <td>61500.0</td>\n      <td>33800.0</td>\n      <td>138000.0</td>\n      <td>HASS</td>\n    </tr>\n    <tr>\n      <th>4</th>\n      <td>Architecture</td>\n      <td>41600.0</td>\n      <td>76800.0</td>\n      <td>50600.0</td>\n      <td>136000.0</td>\n      <td>Business</td>\n    </tr>\n    <tr>\n      <th>5</th>\n      <td>Art History</td>\n      <td>35800.0</td>\n      <td>64900.0</td>\n      <td>28800.0</td>\n      <td>125000.0</td>\n      <td>HASS</td>\n    </tr>\n    <tr>\n      <th>6</th>\n      <td>Biology</td>\n      <td>38800.0</td>\n      <td>64800.0</td>\n      <td>36900.0</td>\n      <td>135000.0</td>\n      <td>STEM</td>\n    </tr>\n    <tr>\n      <th>7</th>\n      <td>Business Management</td>\n      <td>43000.0</td>\n      <td>72100.0</td>\n      <td>38800.0</td>\n      <td>147000.0</td>\n      <td>Business</td>\n    </tr>\n    <tr>\n      <th>8</th>\n      <td>Chemical Engineering</td>\n      <td>63200.0</td>\n      <td>107000.0</td>\n      <td>71900.0</td>\n      <td>194000.0</td>\n      <td>STEM</td>\n    </tr>\n    <tr>\n      <th>9</th>\n      <td>Chemistry</td>\n      <td>42600.0</td>\n      <td>79900.0</td>\n      <td>45300.0</td>\n      <td>148000.0</td>\n      <td>STEM</td>\n    </tr>\n    <tr>\n      <th>10</th>\n      <td>Civil Engineering</td>\n      <td>53900.0</td>\n      <td>90500.0</td>\n      <td>63400.0</td>\n      <td>148000.0</td>\n      <td>STEM</td>\n    </tr>\n    <tr>\n      <th>11</th>\n      <td>Communications</td>\n      <td>38100.0</td>\n      <td>70000.0</td>\n      <td>37500.0</td>\n      <td>143000.0</td>\n      <td>HASS</td>\n    </tr>\n    <tr>\n      <th>12</th>\n      <td>Computer Engineering</td>\n      <td>61400.0</td>\n      <td>105000.0</td>\n      <td>66100.0</td>\n      <td>162000.0</td>\n      <td>STEM</td>\n    </tr>\n    <tr>\n      <th>13</th>\n      <td>Computer Science</td>\n      <td>55900.0</td>\n      <td>95500.0</td>\n      <td>56000.0</td>\n      <td>154000.0</td>\n      <td>STEM</td>\n    </tr>\n    <tr>\n      <th>14</th>\n      <td>Construction</td>\n      <td>53700.0</td>\n      <td>88900.0</td>\n      <td>56300.0</td>\n      <td>171000.0</td>\n      <td>Business</td>\n    </tr>\n    <tr>\n      <th>15</th>\n      <td>Criminal Justice</td>\n      <td>35000.0</td>\n      <td>56300.0</td>\n      <td>32200.0</td>\n      <td>107000.0</td>\n      <td>HASS</td>\n    </tr>\n    <tr>\n      <th>16</th>\n      <td>Drama</td>\n      <td>35900.0</td>\n      <td>56900.0</td>\n      <td>36700.0</td>\n      <td>153000.0</td>\n      <td>HASS</td>\n    </tr>\n    <tr>\n      <th>17</th>\n      <td>Economics</td>\n      <td>50100.0</td>\n      <td>98600.0</td>\n      <td>50600.0</td>\n      <td>210000.0</td>\n      <td>Business</td>\n    </tr>\n    <tr>\n      <th>18</th>\n      <td>Education</td>\n      <td>34900.0</td>\n      <td>52000.0</td>\n      <td>29300.0</td>\n      <td>102000.0</td>\n      <td>HASS</td>\n    </tr>\n    <tr>\n      <th>19</th>\n      <td>Electrical Engineering</td>\n      <td>60900.0</td>\n      <td>103000.0</td>\n      <td>69300.0</td>\n      <td>168000.0</td>\n      <td>STEM</td>\n    </tr>\n    <tr>\n      <th>20</th>\n      <td>English</td>\n      <td>38000.0</td>\n      <td>64700.0</td>\n      <td>33400.0</td>\n      <td>133000.0</td>\n      <td>HASS</td>\n    </tr>\n    <tr>\n      <th>21</th>\n      <td>Film</td>\n      <td>37900.0</td>\n      <td>68500.0</td>\n      <td>33900.0</td>\n      <td>136000.0</td>\n      <td>HASS</td>\n    </tr>\n    <tr>\n      <th>22</th>\n      <td>Finance</td>\n      <td>47900.0</td>\n      <td>88300.0</td>\n      <td>47200.0</td>\n      <td>195000.0</td>\n      <td>Business</td>\n    </tr>\n    <tr>\n      <th>23</th>\n      <td>Forestry</td>\n      <td>39100.0</td>\n      <td>62600.0</td>\n      <td>41000.0</td>\n      <td>111000.0</td>\n      <td>Business</td>\n    </tr>\n    <tr>\n      <th>24</th>\n      <td>Geography</td>\n      <td>41200.0</td>\n      <td>65500.0</td>\n      <td>40000.0</td>\n      <td>132000.0</td>\n      <td>HASS</td>\n    </tr>\n    <tr>\n      <th>25</th>\n      <td>Geology</td>\n      <td>43500.0</td>\n      <td>79500.0</td>\n      <td>45000.0</td>\n      <td>156000.0</td>\n      <td>STEM</td>\n    </tr>\n    <tr>\n      <th>26</th>\n      <td>Graphic Design</td>\n      <td>35700.0</td>\n      <td>59800.0</td>\n      <td>36000.0</td>\n      <td>112000.0</td>\n      <td>HASS</td>\n    </tr>\n    <tr>\n      <th>27</th>\n      <td>Health Care Administration</td>\n      <td>38800.0</td>\n      <td>60600.0</td>\n      <td>34600.0</td>\n      <td>101000.0</td>\n      <td>Business</td>\n    </tr>\n    <tr>\n      <th>28</th>\n      <td>History</td>\n      <td>39200.0</td>\n      <td>71000.0</td>\n      <td>37000.0</td>\n      <td>149000.0</td>\n      <td>HASS</td>\n    </tr>\n    <tr>\n      <th>29</th>\n      <td>Hospitality &amp; Tourism</td>\n      <td>37800.0</td>\n      <td>57500.0</td>\n      <td>35500.0</td>\n      <td>124000.0</td>\n      <td>Business</td>\n    </tr>\n    <tr>\n      <th>30</th>\n      <td>Industrial Engineering</td>\n      <td>57700.0</td>\n      <td>94700.0</td>\n      <td>57100.0</td>\n      <td>173000.0</td>\n      <td>STEM</td>\n    </tr>\n    <tr>\n      <th>31</th>\n      <td>Information Technology (IT)</td>\n      <td>49100.0</td>\n      <td>74800.0</td>\n      <td>44500.0</td>\n      <td>129000.0</td>\n      <td>STEM</td>\n    </tr>\n    <tr>\n      <th>32</th>\n      <td>Interior Design</td>\n      <td>36100.0</td>\n      <td>53200.0</td>\n      <td>35700.0</td>\n      <td>107000.0</td>\n      <td>HASS</td>\n    </tr>\n    <tr>\n      <th>33</th>\n      <td>International Relations</td>\n      <td>40900.0</td>\n      <td>80900.0</td>\n      <td>38200.0</td>\n      <td>157000.0</td>\n      <td>HASS</td>\n    </tr>\n    <tr>\n      <th>34</th>\n      <td>Journalism</td>\n      <td>35600.0</td>\n      <td>66700.0</td>\n      <td>38400.0</td>\n      <td>145000.0</td>\n      <td>HASS</td>\n    </tr>\n    <tr>\n      <th>35</th>\n      <td>Management Information Systems (MIS)</td>\n      <td>49200.0</td>\n      <td>82300.0</td>\n      <td>45300.0</td>\n      <td>146000.0</td>\n      <td>STEM</td>\n    </tr>\n    <tr>\n      <th>36</th>\n      <td>Marketing</td>\n      <td>40800.0</td>\n      <td>79600.0</td>\n      <td>42100.0</td>\n      <td>175000.0</td>\n      <td>Business</td>\n    </tr>\n    <tr>\n      <th>37</th>\n      <td>Math</td>\n      <td>45400.0</td>\n      <td>92400.0</td>\n      <td>45200.0</td>\n      <td>183000.0</td>\n      <td>STEM</td>\n    </tr>\n    <tr>\n      <th>38</th>\n      <td>Mechanical Engineering</td>\n      <td>57900.0</td>\n      <td>93600.0</td>\n      <td>63700.0</td>\n      <td>163000.0</td>\n      <td>STEM</td>\n    </tr>\n    <tr>\n      <th>39</th>\n      <td>Music</td>\n      <td>35900.0</td>\n      <td>55000.0</td>\n      <td>26700.0</td>\n      <td>134000.0</td>\n      <td>HASS</td>\n    </tr>\n    <tr>\n      <th>40</th>\n      <td>Nursing</td>\n      <td>54200.0</td>\n      <td>67000.0</td>\n      <td>47600.0</td>\n      <td>98300.0</td>\n      <td>Business</td>\n    </tr>\n    <tr>\n      <th>41</th>\n      <td>Nutrition</td>\n      <td>39900.0</td>\n      <td>55300.0</td>\n      <td>33900.0</td>\n      <td>99200.0</td>\n      <td>HASS</td>\n    </tr>\n    <tr>\n      <th>42</th>\n      <td>Philosophy</td>\n      <td>39900.0</td>\n      <td>81200.0</td>\n      <td>35500.0</td>\n      <td>168000.0</td>\n      <td>HASS</td>\n    </tr>\n    <tr>\n      <th>43</th>\n      <td>Physician Assistant</td>\n      <td>74300.0</td>\n      <td>91700.0</td>\n      <td>66400.0</td>\n      <td>124000.0</td>\n      <td>STEM</td>\n    </tr>\n    <tr>\n      <th>44</th>\n      <td>Physics</td>\n      <td>50300.0</td>\n      <td>97300.0</td>\n      <td>56000.0</td>\n      <td>178000.0</td>\n      <td>STEM</td>\n    </tr>\n    <tr>\n      <th>45</th>\n      <td>Political Science</td>\n      <td>40800.0</td>\n      <td>78200.0</td>\n      <td>41200.0</td>\n      <td>168000.0</td>\n      <td>HASS</td>\n    </tr>\n    <tr>\n      <th>46</th>\n      <td>Psychology</td>\n      <td>35900.0</td>\n      <td>60400.0</td>\n      <td>31600.0</td>\n      <td>127000.0</td>\n      <td>HASS</td>\n    </tr>\n    <tr>\n      <th>47</th>\n      <td>Religion</td>\n      <td>34100.0</td>\n      <td>52000.0</td>\n      <td>29700.0</td>\n      <td>96400.0</td>\n      <td>HASS</td>\n    </tr>\n    <tr>\n      <th>48</th>\n      <td>Sociology</td>\n      <td>36500.0</td>\n      <td>58200.0</td>\n      <td>30700.0</td>\n      <td>118000.0</td>\n      <td>HASS</td>\n    </tr>\n    <tr>\n      <th>49</th>\n      <td>Spanish</td>\n      <td>34000.0</td>\n      <td>53100.0</td>\n      <td>31000.0</td>\n      <td>96400.0</td>\n      <td>HASS</td>\n    </tr>\n  </tbody>\n</table>\n</div>"
     },
     "execution_count": 15,
     "metadata": {},
     "output_type": "execute_result"
    }
   ],
   "source": [
    "data.dropna()"
   ],
   "metadata": {
    "collapsed": false,
    "ExecuteTime": {
     "end_time": "2023-07-22T16:39:38.562877Z",
     "start_time": "2023-07-22T16:39:38.561033Z"
    }
   }
  },
  {
   "cell_type": "code",
   "execution_count": 17,
   "outputs": [
    {
     "data": {
      "text/plain": "   Undergraduate Major  Starting Median Salary  Mid-Career Median Salary  \\\n45   Political Science                 40800.0                   78200.0   \n46          Psychology                 35900.0                   60400.0   \n47            Religion                 34100.0                   52000.0   \n48           Sociology                 36500.0                   58200.0   \n49             Spanish                 34000.0                   53100.0   \n\n    Mid-Career 10th Percentile Salary  Mid-Career 90th Percentile Salary Group  \n45                            41200.0                           168000.0  HASS  \n46                            31600.0                           127000.0  HASS  \n47                            29700.0                            96400.0  HASS  \n48                            30700.0                           118000.0  HASS  \n49                            31000.0                            96400.0  HASS  ",
      "text/html": "<div>\n<style scoped>\n    .dataframe tbody tr th:only-of-type {\n        vertical-align: middle;\n    }\n\n    .dataframe tbody tr th {\n        vertical-align: top;\n    }\n\n    .dataframe thead th {\n        text-align: right;\n    }\n</style>\n<table border=\"1\" class=\"dataframe\">\n  <thead>\n    <tr style=\"text-align: right;\">\n      <th></th>\n      <th>Undergraduate Major</th>\n      <th>Starting Median Salary</th>\n      <th>Mid-Career Median Salary</th>\n      <th>Mid-Career 10th Percentile Salary</th>\n      <th>Mid-Career 90th Percentile Salary</th>\n      <th>Group</th>\n    </tr>\n  </thead>\n  <tbody>\n    <tr>\n      <th>45</th>\n      <td>Political Science</td>\n      <td>40800.0</td>\n      <td>78200.0</td>\n      <td>41200.0</td>\n      <td>168000.0</td>\n      <td>HASS</td>\n    </tr>\n    <tr>\n      <th>46</th>\n      <td>Psychology</td>\n      <td>35900.0</td>\n      <td>60400.0</td>\n      <td>31600.0</td>\n      <td>127000.0</td>\n      <td>HASS</td>\n    </tr>\n    <tr>\n      <th>47</th>\n      <td>Religion</td>\n      <td>34100.0</td>\n      <td>52000.0</td>\n      <td>29700.0</td>\n      <td>96400.0</td>\n      <td>HASS</td>\n    </tr>\n    <tr>\n      <th>48</th>\n      <td>Sociology</td>\n      <td>36500.0</td>\n      <td>58200.0</td>\n      <td>30700.0</td>\n      <td>118000.0</td>\n      <td>HASS</td>\n    </tr>\n    <tr>\n      <th>49</th>\n      <td>Spanish</td>\n      <td>34000.0</td>\n      <td>53100.0</td>\n      <td>31000.0</td>\n      <td>96400.0</td>\n      <td>HASS</td>\n    </tr>\n  </tbody>\n</table>\n</div>"
     },
     "execution_count": 17,
     "metadata": {},
     "output_type": "execute_result"
    }
   ],
   "source": [
    "clean_data = data.dropna()\n",
    "clean_data.tail()"
   ],
   "metadata": {
    "collapsed": false,
    "ExecuteTime": {
     "end_time": "2023-07-22T16:41:21.741722Z",
     "start_time": "2023-07-22T16:41:21.738633Z"
    }
   }
  },
  {
   "cell_type": "code",
   "execution_count": 27,
   "outputs": [
    {
     "data": {
      "text/plain": "0     46000.0\n1     57700.0\n2     42600.0\n3     36800.0\n4     41600.0\n5     35800.0\n6     38800.0\n7     43000.0\n8     63200.0\n9     42600.0\n10    53900.0\n11    38100.0\n12    61400.0\n13    55900.0\n14    53700.0\n15    35000.0\n16    35900.0\n17    50100.0\n18    34900.0\n19    60900.0\n20    38000.0\n21    37900.0\n22    47900.0\n23    39100.0\n24    41200.0\n25    43500.0\n26    35700.0\n27    38800.0\n28    39200.0\n29    37800.0\n30    57700.0\n31    49100.0\n32    36100.0\n33    40900.0\n34    35600.0\n35    49200.0\n36    40800.0\n37    45400.0\n38    57900.0\n39    35900.0\n40    54200.0\n41    39900.0\n42    39900.0\n43    74300.0\n44    50300.0\n45    40800.0\n46    35900.0\n47    34100.0\n48    36500.0\n49    34000.0\nName: Starting Median Salary, dtype: float64"
     },
     "execution_count": 27,
     "metadata": {},
     "output_type": "execute_result"
    }
   ],
   "source": [
    "clean_data['Starting Median Salary']"
   ],
   "metadata": {
    "collapsed": false,
    "ExecuteTime": {
     "end_time": "2023-07-23T09:40:21.043971Z",
     "start_time": "2023-07-23T09:40:21.040179Z"
    }
   }
  },
  {
   "cell_type": "code",
   "execution_count": 21,
   "outputs": [
    {
     "data": {
      "text/plain": "43"
     },
     "execution_count": 21,
     "metadata": {},
     "output_type": "execute_result"
    }
   ],
   "source": [
    "clean_data[\"Starting Median Salary\"].idxmax()"
   ],
   "metadata": {
    "collapsed": false,
    "ExecuteTime": {
     "end_time": "2023-07-23T09:38:47.061291Z",
     "start_time": "2023-07-23T09:38:47.059030Z"
    }
   }
  },
  {
   "cell_type": "code",
   "execution_count": 28,
   "outputs": [
    {
     "data": {
      "text/plain": "'Physician Assistant'"
     },
     "execution_count": 28,
     "metadata": {},
     "output_type": "execute_result"
    }
   ],
   "source": [
    "clean_data[\"Undergraduate Major\"][43]"
   ],
   "metadata": {
    "collapsed": false,
    "ExecuteTime": {
     "end_time": "2023-07-23T09:41:23.714115Z",
     "start_time": "2023-07-23T09:41:23.709985Z"
    }
   }
  },
  {
   "cell_type": "code",
   "execution_count": 29,
   "outputs": [
    {
     "data": {
      "text/plain": "'Physician Assistant'"
     },
     "execution_count": 29,
     "metadata": {},
     "output_type": "execute_result"
    }
   ],
   "source": [
    "clean_data[\"Undergraduate Major\"].loc[43]"
   ],
   "metadata": {
    "collapsed": false,
    "ExecuteTime": {
     "end_time": "2023-07-23T09:42:28.137251Z",
     "start_time": "2023-07-23T09:42:28.130289Z"
    }
   }
  },
  {
   "cell_type": "code",
   "execution_count": 30,
   "outputs": [
    {
     "data": {
      "text/plain": "Undergraduate Major                  Physician Assistant\nStarting Median Salary                           74300.0\nMid-Career Median Salary                         91700.0\nMid-Career 10th Percentile Salary                66400.0\nMid-Career 90th Percentile Salary               124000.0\nGroup                                               STEM\nName: 43, dtype: object"
     },
     "execution_count": 30,
     "metadata": {},
     "output_type": "execute_result"
    }
   ],
   "source": [
    "clean_data.loc[43]"
   ],
   "metadata": {
    "collapsed": false,
    "ExecuteTime": {
     "end_time": "2023-07-23T09:44:17.792313Z",
     "start_time": "2023-07-23T09:44:17.788337Z"
    }
   }
  },
  {
   "cell_type": "code",
   "execution_count": 31,
   "outputs": [
    {
     "data": {
      "text/plain": "107000.0"
     },
     "execution_count": 31,
     "metadata": {},
     "output_type": "execute_result"
    }
   ],
   "source": [
    "clean_data[\"Mid-Career Median Salary\"].max()"
   ],
   "metadata": {
    "collapsed": false,
    "ExecuteTime": {
     "end_time": "2023-07-23T09:46:52.618900Z",
     "start_time": "2023-07-23T09:46:52.615213Z"
    }
   }
  },
  {
   "cell_type": "code",
   "execution_count": 32,
   "outputs": [
    {
     "data": {
      "text/plain": "8"
     },
     "execution_count": 32,
     "metadata": {},
     "output_type": "execute_result"
    }
   ],
   "source": [
    "clean_data[\"Mid-Career Median Salary\"].idxmax()"
   ],
   "metadata": {
    "collapsed": false,
    "ExecuteTime": {
     "end_time": "2023-07-23T09:47:05.957035Z",
     "start_time": "2023-07-23T09:47:05.953222Z"
    }
   }
  },
  {
   "cell_type": "code",
   "execution_count": 33,
   "outputs": [
    {
     "data": {
      "text/plain": "Undergraduate Major                  Chemical Engineering\nStarting Median Salary                            63200.0\nMid-Career Median Salary                         107000.0\nMid-Career 10th Percentile Salary                 71900.0\nMid-Career 90th Percentile Salary                194000.0\nGroup                                                STEM\nName: 8, dtype: object"
     },
     "execution_count": 33,
     "metadata": {},
     "output_type": "execute_result"
    }
   ],
   "source": [
    "clean_data.loc[8]"
   ],
   "metadata": {
    "collapsed": false,
    "ExecuteTime": {
     "end_time": "2023-07-23T09:47:18.555405Z",
     "start_time": "2023-07-23T09:47:18.552181Z"
    }
   }
  },
  {
   "cell_type": "code",
   "execution_count": 34,
   "outputs": [
    {
     "data": {
      "text/plain": "49"
     },
     "execution_count": 34,
     "metadata": {},
     "output_type": "execute_result"
    }
   ],
   "source": [
    "clean_data[\"Starting Median Salary\"].idxmin()"
   ],
   "metadata": {
    "collapsed": false,
    "ExecuteTime": {
     "end_time": "2023-07-23T09:49:39.037703Z",
     "start_time": "2023-07-23T09:49:39.034443Z"
    }
   }
  },
  {
   "cell_type": "code",
   "execution_count": 35,
   "outputs": [
    {
     "data": {
      "text/plain": "Undergraduate Major                  Spanish\nStarting Median Salary               34000.0\nMid-Career Median Salary             53100.0\nMid-Career 10th Percentile Salary    31000.0\nMid-Career 90th Percentile Salary    96400.0\nGroup                                   HASS\nName: 49, dtype: object"
     },
     "execution_count": 35,
     "metadata": {},
     "output_type": "execute_result"
    }
   ],
   "source": [
    "clean_data.loc[49]"
   ],
   "metadata": {
    "collapsed": false,
    "ExecuteTime": {
     "end_time": "2023-07-23T09:49:50.469277Z",
     "start_time": "2023-07-23T09:49:50.466067Z"
    }
   }
  },
  {
   "cell_type": "code",
   "execution_count": 37,
   "outputs": [
    {
     "data": {
      "text/plain": "18"
     },
     "execution_count": 37,
     "metadata": {},
     "output_type": "execute_result"
    }
   ],
   "source": [
    "clean_data[\"Mid-Career Median Salary\"].idxmin()"
   ],
   "metadata": {
    "collapsed": false,
    "ExecuteTime": {
     "end_time": "2023-07-23T09:50:58.082323Z",
     "start_time": "2023-07-23T09:50:58.079849Z"
    }
   }
  },
  {
   "cell_type": "code",
   "execution_count": 38,
   "outputs": [
    {
     "data": {
      "text/plain": "Undergraduate Major                  Education\nStarting Median Salary                 34900.0\nMid-Career Median Salary               52000.0\nMid-Career 10th Percentile Salary      29300.0\nMid-Career 90th Percentile Salary     102000.0\nGroup                                     HASS\nName: 18, dtype: object"
     },
     "execution_count": 38,
     "metadata": {},
     "output_type": "execute_result"
    }
   ],
   "source": [
    "clean_data.loc[18]"
   ],
   "metadata": {
    "collapsed": false,
    "ExecuteTime": {
     "end_time": "2023-07-23T09:51:07.167875Z",
     "start_time": "2023-07-23T09:51:07.164023Z"
    }
   }
  },
  {
   "cell_type": "code",
   "execution_count": 41,
   "outputs": [
    {
     "name": "stdout",
     "output_type": "stream",
     "text": [
      "Highest Salary: 107000.0\n",
      "Index for the max mid career salary: 8\n",
      "Undergraduate major: Chemical Engineering\n"
     ]
    }
   ],
   "source": [
    "print(f\"Highest Salary: {clean_data['Mid-Career Median Salary'].max()}\")\n",
    "print(f\"Index for the max mid career salary: {clean_data['Mid-Career Median Salary'].idxmax()}\")\n",
    "print(f'Undergraduate major: {clean_data[\"Undergraduate Major\"][8]}')"
   ],
   "metadata": {
    "collapsed": false,
    "ExecuteTime": {
     "end_time": "2023-07-23T09:56:14.014960Z",
     "start_time": "2023-07-23T09:56:14.011614Z"
    }
   }
  },
  {
   "cell_type": "code",
   "execution_count": 44,
   "outputs": [
    {
     "name": "stdout",
     "output_type": "stream",
     "text": [
      "Lowest starting salary: 34000.0\n",
      "Index for the min starting salary: 49\n",
      "Undergraduate major: Spanish\n"
     ]
    }
   ],
   "source": [
    "print(f\"Lowest starting salary: {clean_data['Starting Median Salary'].min()}\")\n",
    "print(f\"Index for the min starting salary: {clean_data['Starting Median Salary'].idxmin()}\")\n",
    "print(f\"Undergraduate major: {clean_data['Undergraduate Major'].loc[49]}\")"
   ],
   "metadata": {
    "collapsed": false,
    "ExecuteTime": {
     "end_time": "2023-07-23T09:59:20.377666Z",
     "start_time": "2023-07-23T09:59:20.374751Z"
    }
   }
  },
  {
   "cell_type": "code",
   "execution_count": 45,
   "outputs": [
    {
     "name": "stdout",
     "output_type": "stream",
     "text": [
      "Lowest mid career salary: 52000.0\n",
      "Index for the min mid career salary: 18\n",
      "Undergraduate major: Education\n"
     ]
    }
   ],
   "source": [
    "print(f\"Lowest mid career salary: {clean_data['Mid-Career Median Salary'].min()}\")\n",
    "print(f\"Index for the min mid career salary: {clean_data['Mid-Career Median Salary'].idxmin()}\")\n",
    "print(f\"Undergraduate major: {clean_data['Undergraduate Major'].loc[18]}\")"
   ],
   "metadata": {
    "collapsed": false,
    "ExecuteTime": {
     "end_time": "2023-07-23T10:00:21.037729Z",
     "start_time": "2023-07-23T10:00:21.026906Z"
    }
   }
  },
  {
   "cell_type": "code",
   "execution_count": 50,
   "outputs": [],
   "source": [
    "spread_col = (clean_data[\"Mid-Career 90th Percentile Salary\"] - clean_data[\"Mid-Career 10th Percentile Salary\"])\n",
    "clean_data.insert(loc=1, column='spread', value=spread_col)"
   ],
   "metadata": {
    "collapsed": false,
    "ExecuteTime": {
     "end_time": "2023-07-23T10:07:32.695761Z",
     "start_time": "2023-07-23T10:07:32.694644Z"
    }
   }
  },
  {
   "cell_type": "code",
   "execution_count": 51,
   "outputs": [
    {
     "data": {
      "text/plain": "                     Undergraduate Major    spread  Starting Median Salary  \\\n0                             Accounting  109800.0                 46000.0   \n1                  Aerospace Engineering   96700.0                 57700.0   \n2                            Agriculture  113700.0                 42600.0   \n3                           Anthropology  104200.0                 36800.0   \n4                           Architecture   85400.0                 41600.0   \n5                            Art History   96200.0                 35800.0   \n6                                Biology   98100.0                 38800.0   \n7                    Business Management  108200.0                 43000.0   \n8                   Chemical Engineering  122100.0                 63200.0   \n9                              Chemistry  102700.0                 42600.0   \n10                     Civil Engineering   84600.0                 53900.0   \n11                        Communications  105500.0                 38100.0   \n12                  Computer Engineering   95900.0                 61400.0   \n13                      Computer Science   98000.0                 55900.0   \n14                          Construction  114700.0                 53700.0   \n15                      Criminal Justice   74800.0                 35000.0   \n16                                 Drama  116300.0                 35900.0   \n17                             Economics  159400.0                 50100.0   \n18                             Education   72700.0                 34900.0   \n19                Electrical Engineering   98700.0                 60900.0   \n20                               English   99600.0                 38000.0   \n21                                  Film  102100.0                 37900.0   \n22                               Finance  147800.0                 47900.0   \n23                              Forestry   70000.0                 39100.0   \n24                             Geography   92000.0                 41200.0   \n25                               Geology  111000.0                 43500.0   \n26                        Graphic Design   76000.0                 35700.0   \n27            Health Care Administration   66400.0                 38800.0   \n28                               History  112000.0                 39200.0   \n29                 Hospitality & Tourism   88500.0                 37800.0   \n30                Industrial Engineering  115900.0                 57700.0   \n31           Information Technology (IT)   84500.0                 49100.0   \n32                       Interior Design   71300.0                 36100.0   \n33               International Relations  118800.0                 40900.0   \n34                            Journalism  106600.0                 35600.0   \n35  Management Information Systems (MIS)  100700.0                 49200.0   \n36                             Marketing  132900.0                 40800.0   \n37                                  Math  137800.0                 45400.0   \n38                Mechanical Engineering   99300.0                 57900.0   \n39                                 Music  107300.0                 35900.0   \n40                               Nursing   50700.0                 54200.0   \n41                             Nutrition   65300.0                 39900.0   \n42                            Philosophy  132500.0                 39900.0   \n43                   Physician Assistant   57600.0                 74300.0   \n44                               Physics  122000.0                 50300.0   \n45                     Political Science  126800.0                 40800.0   \n46                            Psychology   95400.0                 35900.0   \n47                              Religion   66700.0                 34100.0   \n48                             Sociology   87300.0                 36500.0   \n49                               Spanish   65400.0                 34000.0   \n\n    Mid-Career Median Salary  Mid-Career 10th Percentile Salary  \\\n0                    77100.0                            42200.0   \n1                   101000.0                            64300.0   \n2                    71900.0                            36300.0   \n3                    61500.0                            33800.0   \n4                    76800.0                            50600.0   \n5                    64900.0                            28800.0   \n6                    64800.0                            36900.0   \n7                    72100.0                            38800.0   \n8                   107000.0                            71900.0   \n9                    79900.0                            45300.0   \n10                   90500.0                            63400.0   \n11                   70000.0                            37500.0   \n12                  105000.0                            66100.0   \n13                   95500.0                            56000.0   \n14                   88900.0                            56300.0   \n15                   56300.0                            32200.0   \n16                   56900.0                            36700.0   \n17                   98600.0                            50600.0   \n18                   52000.0                            29300.0   \n19                  103000.0                            69300.0   \n20                   64700.0                            33400.0   \n21                   68500.0                            33900.0   \n22                   88300.0                            47200.0   \n23                   62600.0                            41000.0   \n24                   65500.0                            40000.0   \n25                   79500.0                            45000.0   \n26                   59800.0                            36000.0   \n27                   60600.0                            34600.0   \n28                   71000.0                            37000.0   \n29                   57500.0                            35500.0   \n30                   94700.0                            57100.0   \n31                   74800.0                            44500.0   \n32                   53200.0                            35700.0   \n33                   80900.0                            38200.0   \n34                   66700.0                            38400.0   \n35                   82300.0                            45300.0   \n36                   79600.0                            42100.0   \n37                   92400.0                            45200.0   \n38                   93600.0                            63700.0   \n39                   55000.0                            26700.0   \n40                   67000.0                            47600.0   \n41                   55300.0                            33900.0   \n42                   81200.0                            35500.0   \n43                   91700.0                            66400.0   \n44                   97300.0                            56000.0   \n45                   78200.0                            41200.0   \n46                   60400.0                            31600.0   \n47                   52000.0                            29700.0   \n48                   58200.0                            30700.0   \n49                   53100.0                            31000.0   \n\n    Mid-Career 90th Percentile Salary     Group  \n0                            152000.0  Business  \n1                            161000.0      STEM  \n2                            150000.0  Business  \n3                            138000.0      HASS  \n4                            136000.0  Business  \n5                            125000.0      HASS  \n6                            135000.0      STEM  \n7                            147000.0  Business  \n8                            194000.0      STEM  \n9                            148000.0      STEM  \n10                           148000.0      STEM  \n11                           143000.0      HASS  \n12                           162000.0      STEM  \n13                           154000.0      STEM  \n14                           171000.0  Business  \n15                           107000.0      HASS  \n16                           153000.0      HASS  \n17                           210000.0  Business  \n18                           102000.0      HASS  \n19                           168000.0      STEM  \n20                           133000.0      HASS  \n21                           136000.0      HASS  \n22                           195000.0  Business  \n23                           111000.0  Business  \n24                           132000.0      HASS  \n25                           156000.0      STEM  \n26                           112000.0      HASS  \n27                           101000.0  Business  \n28                           149000.0      HASS  \n29                           124000.0  Business  \n30                           173000.0      STEM  \n31                           129000.0      STEM  \n32                           107000.0      HASS  \n33                           157000.0      HASS  \n34                           145000.0      HASS  \n35                           146000.0      STEM  \n36                           175000.0  Business  \n37                           183000.0      STEM  \n38                           163000.0      STEM  \n39                           134000.0      HASS  \n40                            98300.0  Business  \n41                            99200.0      HASS  \n42                           168000.0      HASS  \n43                           124000.0      STEM  \n44                           178000.0      STEM  \n45                           168000.0      HASS  \n46                           127000.0      HASS  \n47                            96400.0      HASS  \n48                           118000.0      HASS  \n49                            96400.0      HASS  ",
      "text/html": "<div>\n<style scoped>\n    .dataframe tbody tr th:only-of-type {\n        vertical-align: middle;\n    }\n\n    .dataframe tbody tr th {\n        vertical-align: top;\n    }\n\n    .dataframe thead th {\n        text-align: right;\n    }\n</style>\n<table border=\"1\" class=\"dataframe\">\n  <thead>\n    <tr style=\"text-align: right;\">\n      <th></th>\n      <th>Undergraduate Major</th>\n      <th>spread</th>\n      <th>Starting Median Salary</th>\n      <th>Mid-Career Median Salary</th>\n      <th>Mid-Career 10th Percentile Salary</th>\n      <th>Mid-Career 90th Percentile Salary</th>\n      <th>Group</th>\n    </tr>\n  </thead>\n  <tbody>\n    <tr>\n      <th>0</th>\n      <td>Accounting</td>\n      <td>109800.0</td>\n      <td>46000.0</td>\n      <td>77100.0</td>\n      <td>42200.0</td>\n      <td>152000.0</td>\n      <td>Business</td>\n    </tr>\n    <tr>\n      <th>1</th>\n      <td>Aerospace Engineering</td>\n      <td>96700.0</td>\n      <td>57700.0</td>\n      <td>101000.0</td>\n      <td>64300.0</td>\n      <td>161000.0</td>\n      <td>STEM</td>\n    </tr>\n    <tr>\n      <th>2</th>\n      <td>Agriculture</td>\n      <td>113700.0</td>\n      <td>42600.0</td>\n      <td>71900.0</td>\n      <td>36300.0</td>\n      <td>150000.0</td>\n      <td>Business</td>\n    </tr>\n    <tr>\n      <th>3</th>\n      <td>Anthropology</td>\n      <td>104200.0</td>\n      <td>36800.0</td>\n      <td>61500.0</td>\n      <td>33800.0</td>\n      <td>138000.0</td>\n      <td>HASS</td>\n    </tr>\n    <tr>\n      <th>4</th>\n      <td>Architecture</td>\n      <td>85400.0</td>\n      <td>41600.0</td>\n      <td>76800.0</td>\n      <td>50600.0</td>\n      <td>136000.0</td>\n      <td>Business</td>\n    </tr>\n    <tr>\n      <th>5</th>\n      <td>Art History</td>\n      <td>96200.0</td>\n      <td>35800.0</td>\n      <td>64900.0</td>\n      <td>28800.0</td>\n      <td>125000.0</td>\n      <td>HASS</td>\n    </tr>\n    <tr>\n      <th>6</th>\n      <td>Biology</td>\n      <td>98100.0</td>\n      <td>38800.0</td>\n      <td>64800.0</td>\n      <td>36900.0</td>\n      <td>135000.0</td>\n      <td>STEM</td>\n    </tr>\n    <tr>\n      <th>7</th>\n      <td>Business Management</td>\n      <td>108200.0</td>\n      <td>43000.0</td>\n      <td>72100.0</td>\n      <td>38800.0</td>\n      <td>147000.0</td>\n      <td>Business</td>\n    </tr>\n    <tr>\n      <th>8</th>\n      <td>Chemical Engineering</td>\n      <td>122100.0</td>\n      <td>63200.0</td>\n      <td>107000.0</td>\n      <td>71900.0</td>\n      <td>194000.0</td>\n      <td>STEM</td>\n    </tr>\n    <tr>\n      <th>9</th>\n      <td>Chemistry</td>\n      <td>102700.0</td>\n      <td>42600.0</td>\n      <td>79900.0</td>\n      <td>45300.0</td>\n      <td>148000.0</td>\n      <td>STEM</td>\n    </tr>\n    <tr>\n      <th>10</th>\n      <td>Civil Engineering</td>\n      <td>84600.0</td>\n      <td>53900.0</td>\n      <td>90500.0</td>\n      <td>63400.0</td>\n      <td>148000.0</td>\n      <td>STEM</td>\n    </tr>\n    <tr>\n      <th>11</th>\n      <td>Communications</td>\n      <td>105500.0</td>\n      <td>38100.0</td>\n      <td>70000.0</td>\n      <td>37500.0</td>\n      <td>143000.0</td>\n      <td>HASS</td>\n    </tr>\n    <tr>\n      <th>12</th>\n      <td>Computer Engineering</td>\n      <td>95900.0</td>\n      <td>61400.0</td>\n      <td>105000.0</td>\n      <td>66100.0</td>\n      <td>162000.0</td>\n      <td>STEM</td>\n    </tr>\n    <tr>\n      <th>13</th>\n      <td>Computer Science</td>\n      <td>98000.0</td>\n      <td>55900.0</td>\n      <td>95500.0</td>\n      <td>56000.0</td>\n      <td>154000.0</td>\n      <td>STEM</td>\n    </tr>\n    <tr>\n      <th>14</th>\n      <td>Construction</td>\n      <td>114700.0</td>\n      <td>53700.0</td>\n      <td>88900.0</td>\n      <td>56300.0</td>\n      <td>171000.0</td>\n      <td>Business</td>\n    </tr>\n    <tr>\n      <th>15</th>\n      <td>Criminal Justice</td>\n      <td>74800.0</td>\n      <td>35000.0</td>\n      <td>56300.0</td>\n      <td>32200.0</td>\n      <td>107000.0</td>\n      <td>HASS</td>\n    </tr>\n    <tr>\n      <th>16</th>\n      <td>Drama</td>\n      <td>116300.0</td>\n      <td>35900.0</td>\n      <td>56900.0</td>\n      <td>36700.0</td>\n      <td>153000.0</td>\n      <td>HASS</td>\n    </tr>\n    <tr>\n      <th>17</th>\n      <td>Economics</td>\n      <td>159400.0</td>\n      <td>50100.0</td>\n      <td>98600.0</td>\n      <td>50600.0</td>\n      <td>210000.0</td>\n      <td>Business</td>\n    </tr>\n    <tr>\n      <th>18</th>\n      <td>Education</td>\n      <td>72700.0</td>\n      <td>34900.0</td>\n      <td>52000.0</td>\n      <td>29300.0</td>\n      <td>102000.0</td>\n      <td>HASS</td>\n    </tr>\n    <tr>\n      <th>19</th>\n      <td>Electrical Engineering</td>\n      <td>98700.0</td>\n      <td>60900.0</td>\n      <td>103000.0</td>\n      <td>69300.0</td>\n      <td>168000.0</td>\n      <td>STEM</td>\n    </tr>\n    <tr>\n      <th>20</th>\n      <td>English</td>\n      <td>99600.0</td>\n      <td>38000.0</td>\n      <td>64700.0</td>\n      <td>33400.0</td>\n      <td>133000.0</td>\n      <td>HASS</td>\n    </tr>\n    <tr>\n      <th>21</th>\n      <td>Film</td>\n      <td>102100.0</td>\n      <td>37900.0</td>\n      <td>68500.0</td>\n      <td>33900.0</td>\n      <td>136000.0</td>\n      <td>HASS</td>\n    </tr>\n    <tr>\n      <th>22</th>\n      <td>Finance</td>\n      <td>147800.0</td>\n      <td>47900.0</td>\n      <td>88300.0</td>\n      <td>47200.0</td>\n      <td>195000.0</td>\n      <td>Business</td>\n    </tr>\n    <tr>\n      <th>23</th>\n      <td>Forestry</td>\n      <td>70000.0</td>\n      <td>39100.0</td>\n      <td>62600.0</td>\n      <td>41000.0</td>\n      <td>111000.0</td>\n      <td>Business</td>\n    </tr>\n    <tr>\n      <th>24</th>\n      <td>Geography</td>\n      <td>92000.0</td>\n      <td>41200.0</td>\n      <td>65500.0</td>\n      <td>40000.0</td>\n      <td>132000.0</td>\n      <td>HASS</td>\n    </tr>\n    <tr>\n      <th>25</th>\n      <td>Geology</td>\n      <td>111000.0</td>\n      <td>43500.0</td>\n      <td>79500.0</td>\n      <td>45000.0</td>\n      <td>156000.0</td>\n      <td>STEM</td>\n    </tr>\n    <tr>\n      <th>26</th>\n      <td>Graphic Design</td>\n      <td>76000.0</td>\n      <td>35700.0</td>\n      <td>59800.0</td>\n      <td>36000.0</td>\n      <td>112000.0</td>\n      <td>HASS</td>\n    </tr>\n    <tr>\n      <th>27</th>\n      <td>Health Care Administration</td>\n      <td>66400.0</td>\n      <td>38800.0</td>\n      <td>60600.0</td>\n      <td>34600.0</td>\n      <td>101000.0</td>\n      <td>Business</td>\n    </tr>\n    <tr>\n      <th>28</th>\n      <td>History</td>\n      <td>112000.0</td>\n      <td>39200.0</td>\n      <td>71000.0</td>\n      <td>37000.0</td>\n      <td>149000.0</td>\n      <td>HASS</td>\n    </tr>\n    <tr>\n      <th>29</th>\n      <td>Hospitality &amp; Tourism</td>\n      <td>88500.0</td>\n      <td>37800.0</td>\n      <td>57500.0</td>\n      <td>35500.0</td>\n      <td>124000.0</td>\n      <td>Business</td>\n    </tr>\n    <tr>\n      <th>30</th>\n      <td>Industrial Engineering</td>\n      <td>115900.0</td>\n      <td>57700.0</td>\n      <td>94700.0</td>\n      <td>57100.0</td>\n      <td>173000.0</td>\n      <td>STEM</td>\n    </tr>\n    <tr>\n      <th>31</th>\n      <td>Information Technology (IT)</td>\n      <td>84500.0</td>\n      <td>49100.0</td>\n      <td>74800.0</td>\n      <td>44500.0</td>\n      <td>129000.0</td>\n      <td>STEM</td>\n    </tr>\n    <tr>\n      <th>32</th>\n      <td>Interior Design</td>\n      <td>71300.0</td>\n      <td>36100.0</td>\n      <td>53200.0</td>\n      <td>35700.0</td>\n      <td>107000.0</td>\n      <td>HASS</td>\n    </tr>\n    <tr>\n      <th>33</th>\n      <td>International Relations</td>\n      <td>118800.0</td>\n      <td>40900.0</td>\n      <td>80900.0</td>\n      <td>38200.0</td>\n      <td>157000.0</td>\n      <td>HASS</td>\n    </tr>\n    <tr>\n      <th>34</th>\n      <td>Journalism</td>\n      <td>106600.0</td>\n      <td>35600.0</td>\n      <td>66700.0</td>\n      <td>38400.0</td>\n      <td>145000.0</td>\n      <td>HASS</td>\n    </tr>\n    <tr>\n      <th>35</th>\n      <td>Management Information Systems (MIS)</td>\n      <td>100700.0</td>\n      <td>49200.0</td>\n      <td>82300.0</td>\n      <td>45300.0</td>\n      <td>146000.0</td>\n      <td>STEM</td>\n    </tr>\n    <tr>\n      <th>36</th>\n      <td>Marketing</td>\n      <td>132900.0</td>\n      <td>40800.0</td>\n      <td>79600.0</td>\n      <td>42100.0</td>\n      <td>175000.0</td>\n      <td>Business</td>\n    </tr>\n    <tr>\n      <th>37</th>\n      <td>Math</td>\n      <td>137800.0</td>\n      <td>45400.0</td>\n      <td>92400.0</td>\n      <td>45200.0</td>\n      <td>183000.0</td>\n      <td>STEM</td>\n    </tr>\n    <tr>\n      <th>38</th>\n      <td>Mechanical Engineering</td>\n      <td>99300.0</td>\n      <td>57900.0</td>\n      <td>93600.0</td>\n      <td>63700.0</td>\n      <td>163000.0</td>\n      <td>STEM</td>\n    </tr>\n    <tr>\n      <th>39</th>\n      <td>Music</td>\n      <td>107300.0</td>\n      <td>35900.0</td>\n      <td>55000.0</td>\n      <td>26700.0</td>\n      <td>134000.0</td>\n      <td>HASS</td>\n    </tr>\n    <tr>\n      <th>40</th>\n      <td>Nursing</td>\n      <td>50700.0</td>\n      <td>54200.0</td>\n      <td>67000.0</td>\n      <td>47600.0</td>\n      <td>98300.0</td>\n      <td>Business</td>\n    </tr>\n    <tr>\n      <th>41</th>\n      <td>Nutrition</td>\n      <td>65300.0</td>\n      <td>39900.0</td>\n      <td>55300.0</td>\n      <td>33900.0</td>\n      <td>99200.0</td>\n      <td>HASS</td>\n    </tr>\n    <tr>\n      <th>42</th>\n      <td>Philosophy</td>\n      <td>132500.0</td>\n      <td>39900.0</td>\n      <td>81200.0</td>\n      <td>35500.0</td>\n      <td>168000.0</td>\n      <td>HASS</td>\n    </tr>\n    <tr>\n      <th>43</th>\n      <td>Physician Assistant</td>\n      <td>57600.0</td>\n      <td>74300.0</td>\n      <td>91700.0</td>\n      <td>66400.0</td>\n      <td>124000.0</td>\n      <td>STEM</td>\n    </tr>\n    <tr>\n      <th>44</th>\n      <td>Physics</td>\n      <td>122000.0</td>\n      <td>50300.0</td>\n      <td>97300.0</td>\n      <td>56000.0</td>\n      <td>178000.0</td>\n      <td>STEM</td>\n    </tr>\n    <tr>\n      <th>45</th>\n      <td>Political Science</td>\n      <td>126800.0</td>\n      <td>40800.0</td>\n      <td>78200.0</td>\n      <td>41200.0</td>\n      <td>168000.0</td>\n      <td>HASS</td>\n    </tr>\n    <tr>\n      <th>46</th>\n      <td>Psychology</td>\n      <td>95400.0</td>\n      <td>35900.0</td>\n      <td>60400.0</td>\n      <td>31600.0</td>\n      <td>127000.0</td>\n      <td>HASS</td>\n    </tr>\n    <tr>\n      <th>47</th>\n      <td>Religion</td>\n      <td>66700.0</td>\n      <td>34100.0</td>\n      <td>52000.0</td>\n      <td>29700.0</td>\n      <td>96400.0</td>\n      <td>HASS</td>\n    </tr>\n    <tr>\n      <th>48</th>\n      <td>Sociology</td>\n      <td>87300.0</td>\n      <td>36500.0</td>\n      <td>58200.0</td>\n      <td>30700.0</td>\n      <td>118000.0</td>\n      <td>HASS</td>\n    </tr>\n    <tr>\n      <th>49</th>\n      <td>Spanish</td>\n      <td>65400.0</td>\n      <td>34000.0</td>\n      <td>53100.0</td>\n      <td>31000.0</td>\n      <td>96400.0</td>\n      <td>HASS</td>\n    </tr>\n  </tbody>\n</table>\n</div>"
     },
     "execution_count": 51,
     "metadata": {},
     "output_type": "execute_result"
    }
   ],
   "source": [
    "clean_data"
   ],
   "metadata": {
    "collapsed": false,
    "ExecuteTime": {
     "end_time": "2023-07-23T10:07:46.287151Z",
     "start_time": "2023-07-23T10:07:46.285082Z"
    }
   }
  },
  {
   "cell_type": "code",
   "execution_count": 60,
   "outputs": [
    {
     "data": {
      "text/plain": "           Undergraduate Major   spread\n40                     Nursing  50700.0\n43         Physician Assistant  57600.0\n41                   Nutrition  65300.0\n49                     Spanish  65400.0\n27  Health Care Administration  66400.0",
      "text/html": "<div>\n<style scoped>\n    .dataframe tbody tr th:only-of-type {\n        vertical-align: middle;\n    }\n\n    .dataframe tbody tr th {\n        vertical-align: top;\n    }\n\n    .dataframe thead th {\n        text-align: right;\n    }\n</style>\n<table border=\"1\" class=\"dataframe\">\n  <thead>\n    <tr style=\"text-align: right;\">\n      <th></th>\n      <th>Undergraduate Major</th>\n      <th>spread</th>\n    </tr>\n  </thead>\n  <tbody>\n    <tr>\n      <th>40</th>\n      <td>Nursing</td>\n      <td>50700.0</td>\n    </tr>\n    <tr>\n      <th>43</th>\n      <td>Physician Assistant</td>\n      <td>57600.0</td>\n    </tr>\n    <tr>\n      <th>41</th>\n      <td>Nutrition</td>\n      <td>65300.0</td>\n    </tr>\n    <tr>\n      <th>49</th>\n      <td>Spanish</td>\n      <td>65400.0</td>\n    </tr>\n    <tr>\n      <th>27</th>\n      <td>Health Care Administration</td>\n      <td>66400.0</td>\n    </tr>\n  </tbody>\n</table>\n</div>"
     },
     "execution_count": 60,
     "metadata": {},
     "output_type": "execute_result"
    }
   ],
   "source": [
    "low_risk = clean_data.sort_values('spread')\n",
    "low_risk[['Undergraduate Major', 'spread']].head()"
   ],
   "metadata": {
    "collapsed": false,
    "ExecuteTime": {
     "end_time": "2023-07-23T10:12:29.332586Z",
     "start_time": "2023-07-23T10:12:29.330348Z"
    }
   }
  },
  {
   "cell_type": "code",
   "execution_count": 67,
   "outputs": [
    {
     "data": {
      "text/plain": "     Undergraduate Major  Mid-Career 90th Percentile Salary\n17             Economics                           210000.0\n22               Finance                           195000.0\n8   Chemical Engineering                           194000.0\n37                  Math                           183000.0\n44               Physics                           178000.0",
      "text/html": "<div>\n<style scoped>\n    .dataframe tbody tr th:only-of-type {\n        vertical-align: middle;\n    }\n\n    .dataframe tbody tr th {\n        vertical-align: top;\n    }\n\n    .dataframe thead th {\n        text-align: right;\n    }\n</style>\n<table border=\"1\" class=\"dataframe\">\n  <thead>\n    <tr style=\"text-align: right;\">\n      <th></th>\n      <th>Undergraduate Major</th>\n      <th>Mid-Career 90th Percentile Salary</th>\n    </tr>\n  </thead>\n  <tbody>\n    <tr>\n      <th>17</th>\n      <td>Economics</td>\n      <td>210000.0</td>\n    </tr>\n    <tr>\n      <th>22</th>\n      <td>Finance</td>\n      <td>195000.0</td>\n    </tr>\n    <tr>\n      <th>8</th>\n      <td>Chemical Engineering</td>\n      <td>194000.0</td>\n    </tr>\n    <tr>\n      <th>37</th>\n      <td>Math</td>\n      <td>183000.0</td>\n    </tr>\n    <tr>\n      <th>44</th>\n      <td>Physics</td>\n      <td>178000.0</td>\n    </tr>\n  </tbody>\n</table>\n</div>"
     },
     "execution_count": 67,
     "metadata": {},
     "output_type": "execute_result"
    }
   ],
   "source": [
    "high_potential = clean_data.sort_values('Mid-Career 90th Percentile Salary', ascending=False)\n",
    "high_potential[[\"Undergraduate Major\", \"Mid-Career 90th Percentile Salary\"]].head(5)"
   ],
   "metadata": {
    "collapsed": false,
    "ExecuteTime": {
     "end_time": "2023-07-23T10:19:55.175994Z",
     "start_time": "2023-07-23T10:19:55.163854Z"
    }
   }
  },
  {
   "cell_type": "code",
   "execution_count": 68,
   "outputs": [
    {
     "data": {
      "text/plain": "   Undergraduate Major    spread\n17           Economics  159400.0\n22             Finance  147800.0\n37                Math  137800.0\n36           Marketing  132900.0\n42          Philosophy  132500.0",
      "text/html": "<div>\n<style scoped>\n    .dataframe tbody tr th:only-of-type {\n        vertical-align: middle;\n    }\n\n    .dataframe tbody tr th {\n        vertical-align: top;\n    }\n\n    .dataframe thead th {\n        text-align: right;\n    }\n</style>\n<table border=\"1\" class=\"dataframe\">\n  <thead>\n    <tr style=\"text-align: right;\">\n      <th></th>\n      <th>Undergraduate Major</th>\n      <th>spread</th>\n    </tr>\n  </thead>\n  <tbody>\n    <tr>\n      <th>17</th>\n      <td>Economics</td>\n      <td>159400.0</td>\n    </tr>\n    <tr>\n      <th>22</th>\n      <td>Finance</td>\n      <td>147800.0</td>\n    </tr>\n    <tr>\n      <th>37</th>\n      <td>Math</td>\n      <td>137800.0</td>\n    </tr>\n    <tr>\n      <th>36</th>\n      <td>Marketing</td>\n      <td>132900.0</td>\n    </tr>\n    <tr>\n      <th>42</th>\n      <td>Philosophy</td>\n      <td>132500.0</td>\n    </tr>\n  </tbody>\n</table>\n</div>"
     },
     "execution_count": 68,
     "metadata": {},
     "output_type": "execute_result"
    }
   ],
   "source": [
    "high_risk = clean_data.sort_values('spread', ascending=False)\n",
    "high_risk[[\"Undergraduate Major\", \"spread\"]].head(5)"
   ],
   "metadata": {
    "collapsed": false,
    "ExecuteTime": {
     "end_time": "2023-07-23T10:20:04.375056Z",
     "start_time": "2023-07-23T10:20:04.369082Z"
    }
   }
  },
  {
   "cell_type": "code",
   "execution_count": 70,
   "outputs": [
    {
     "data": {
      "text/plain": "       Undergraduate Major  Mid-Career Median Salary\n8     Chemical Engineering                  107000.0\n12    Computer Engineering                  105000.0\n19  Electrical Engineering                  103000.0\n1    Aerospace Engineering                  101000.0\n17               Economics                   98600.0",
      "text/html": "<div>\n<style scoped>\n    .dataframe tbody tr th:only-of-type {\n        vertical-align: middle;\n    }\n\n    .dataframe tbody tr th {\n        vertical-align: top;\n    }\n\n    .dataframe thead th {\n        text-align: right;\n    }\n</style>\n<table border=\"1\" class=\"dataframe\">\n  <thead>\n    <tr style=\"text-align: right;\">\n      <th></th>\n      <th>Undergraduate Major</th>\n      <th>Mid-Career Median Salary</th>\n    </tr>\n  </thead>\n  <tbody>\n    <tr>\n      <th>8</th>\n      <td>Chemical Engineering</td>\n      <td>107000.0</td>\n    </tr>\n    <tr>\n      <th>12</th>\n      <td>Computer Engineering</td>\n      <td>105000.0</td>\n    </tr>\n    <tr>\n      <th>19</th>\n      <td>Electrical Engineering</td>\n      <td>103000.0</td>\n    </tr>\n    <tr>\n      <th>1</th>\n      <td>Aerospace Engineering</td>\n      <td>101000.0</td>\n    </tr>\n    <tr>\n      <th>17</th>\n      <td>Economics</td>\n      <td>98600.0</td>\n    </tr>\n  </tbody>\n</table>\n</div>"
     },
     "execution_count": 70,
     "metadata": {},
     "output_type": "execute_result"
    }
   ],
   "source": [
    "high_spread = clean_data.sort_values('Mid-Career Median Salary', ascending=False)\n",
    "high_spread[[\"Undergraduate Major\", \"Mid-Career Median Salary\"]].head()"
   ],
   "metadata": {
    "collapsed": false,
    "ExecuteTime": {
     "end_time": "2023-07-23T10:24:28.554680Z",
     "start_time": "2023-07-23T10:24:28.535801Z"
    }
   }
  },
  {
   "cell_type": "code",
   "execution_count": 90,
   "outputs": [
    {
     "name": "stderr",
     "output_type": "stream",
     "text": [
      "/var/folders/lf/l410qkkx13393f5y251zq2jw0000gn/T/ipykernel_6805/2367509785.py:2: FutureWarning: The default value of numeric_only in DataFrameGroupBy.mean is deprecated. In a future version, numeric_only will default to False. Either specify numeric_only or select only columns which should be valid for the function.\n",
      "  clean_data.groupby('Group').mean()\n"
     ]
    },
    {
     "data": {
      "text/plain": "             spread  Starting Median Salary  Mid-Career Median Salary  \\\nGroup                                                                   \nBusiness 103,958.33               44,633.33                 75,083.33   \nHASS      95,218.18               37,186.36                 62,968.18   \nSTEM     101,600.00               53,862.50                 90,812.50   \n\n          Mid-Career 10th Percentile Salary  Mid-Career 90th Percentile Salary  \nGroup                                                                           \nBusiness                          43,566.67                         147,525.00  \nHASS                              34,145.45                         129,363.64  \nSTEM                              56,025.00                         157,625.00  ",
      "text/html": "<div>\n<style scoped>\n    .dataframe tbody tr th:only-of-type {\n        vertical-align: middle;\n    }\n\n    .dataframe tbody tr th {\n        vertical-align: top;\n    }\n\n    .dataframe thead th {\n        text-align: right;\n    }\n</style>\n<table border=\"1\" class=\"dataframe\">\n  <thead>\n    <tr style=\"text-align: right;\">\n      <th></th>\n      <th>spread</th>\n      <th>Starting Median Salary</th>\n      <th>Mid-Career Median Salary</th>\n      <th>Mid-Career 10th Percentile Salary</th>\n      <th>Mid-Career 90th Percentile Salary</th>\n    </tr>\n    <tr>\n      <th>Group</th>\n      <th></th>\n      <th></th>\n      <th></th>\n      <th></th>\n      <th></th>\n    </tr>\n  </thead>\n  <tbody>\n    <tr>\n      <th>Business</th>\n      <td>103,958.33</td>\n      <td>44,633.33</td>\n      <td>75,083.33</td>\n      <td>43,566.67</td>\n      <td>147,525.00</td>\n    </tr>\n    <tr>\n      <th>HASS</th>\n      <td>95,218.18</td>\n      <td>37,186.36</td>\n      <td>62,968.18</td>\n      <td>34,145.45</td>\n      <td>129,363.64</td>\n    </tr>\n    <tr>\n      <th>STEM</th>\n      <td>101,600.00</td>\n      <td>53,862.50</td>\n      <td>90,812.50</td>\n      <td>56,025.00</td>\n      <td>157,625.00</td>\n    </tr>\n  </tbody>\n</table>\n</div>"
     },
     "execution_count": 90,
     "metadata": {},
     "output_type": "execute_result"
    }
   ],
   "source": [
    "pd.options.display.float_format = \"{:,.2f}\".format\n",
    "clean_data.groupby('Group').mean()"
   ],
   "metadata": {
    "collapsed": false,
    "ExecuteTime": {
     "end_time": "2023-07-23T10:34:40.573516Z",
     "start_time": "2023-07-23T10:34:40.566837Z"
    }
   }
  }
 ],
 "metadata": {
  "kernelspec": {
   "display_name": "Python 3",
   "language": "python",
   "name": "python3"
  },
  "language_info": {
   "codemirror_mode": {
    "name": "ipython",
    "version": 2
   },
   "file_extension": ".py",
   "mimetype": "text/x-python",
   "name": "python",
   "nbconvert_exporter": "python",
   "pygments_lexer": "ipython2",
   "version": "2.7.6"
  }
 },
 "nbformat": 4,
 "nbformat_minor": 0
}
